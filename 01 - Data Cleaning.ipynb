{
 "cells": [
  {
   "cell_type": "markdown",
   "id": "771b74af-95cf-4f90-8258-1d41cd97bc76",
   "metadata": {},
   "source": [
    "# Cleaning\n",
    "---"
   ]
  },
  {
   "cell_type": "code",
   "execution_count": 1,
   "id": "325d33b5-231a-4d40-bfde-47ff96c88337",
   "metadata": {},
   "outputs": [],
   "source": [
    "import pandas as pd\n",
    "import numpy as np"
   ]
  },
  {
   "cell_type": "markdown",
   "id": "bddff625-e93f-4835-aec9-8f1c7dd30a8e",
   "metadata": {},
   "source": [
    "## Solar Generation Data"
   ]
  },
  {
   "cell_type": "code",
   "execution_count": 3,
   "id": "1b74cd26-90f8-4845-a0b0-72b1dab9f744",
   "metadata": {},
   "outputs": [
    {
     "data": {
      "text/html": [
       "<div>\n",
       "<style scoped>\n",
       "    .dataframe tbody tr th:only-of-type {\n",
       "        vertical-align: middle;\n",
       "    }\n",
       "\n",
       "    .dataframe tbody tr th {\n",
       "        vertical-align: top;\n",
       "    }\n",
       "\n",
       "    .dataframe thead th {\n",
       "        text-align: right;\n",
       "    }\n",
       "</style>\n",
       "<table border=\"1\" class=\"dataframe\">\n",
       "  <thead>\n",
       "    <tr style=\"text-align: right;\">\n",
       "      <th></th>\n",
       "      <th>CampusKey</th>\n",
       "      <th>SiteKey</th>\n",
       "      <th>Timestamp</th>\n",
       "      <th>SolarGeneration</th>\n",
       "    </tr>\n",
       "  </thead>\n",
       "  <tbody>\n",
       "    <tr>\n",
       "      <th>0</th>\n",
       "      <td>2</td>\n",
       "      <td>1</td>\n",
       "      <td>2020-01-01 00:15:00</td>\n",
       "      <td>NaN</td>\n",
       "    </tr>\n",
       "    <tr>\n",
       "      <th>1</th>\n",
       "      <td>2</td>\n",
       "      <td>1</td>\n",
       "      <td>2020-01-01 00:30:00</td>\n",
       "      <td>NaN</td>\n",
       "    </tr>\n",
       "    <tr>\n",
       "      <th>2</th>\n",
       "      <td>2</td>\n",
       "      <td>1</td>\n",
       "      <td>2020-01-01 00:45:00</td>\n",
       "      <td>NaN</td>\n",
       "    </tr>\n",
       "    <tr>\n",
       "      <th>3</th>\n",
       "      <td>2</td>\n",
       "      <td>1</td>\n",
       "      <td>2020-01-01 01:00:00</td>\n",
       "      <td>NaN</td>\n",
       "    </tr>\n",
       "    <tr>\n",
       "      <th>4</th>\n",
       "      <td>2</td>\n",
       "      <td>1</td>\n",
       "      <td>2020-01-01 01:15:00</td>\n",
       "      <td>NaN</td>\n",
       "    </tr>\n",
       "  </tbody>\n",
       "</table>\n",
       "</div>"
      ],
      "text/plain": [
       "   CampusKey  SiteKey            Timestamp  SolarGeneration\n",
       "0          2        1  2020-01-01 00:15:00              NaN\n",
       "1          2        1  2020-01-01 00:30:00              NaN\n",
       "2          2        1  2020-01-01 00:45:00              NaN\n",
       "3          2        1  2020-01-01 01:00:00              NaN\n",
       "4          2        1  2020-01-01 01:15:00              NaN"
      ]
     },
     "execution_count": 3,
     "metadata": {},
     "output_type": "execute_result"
    }
   ],
   "source": [
    "df = pd.read_csv('Solar_Energy_Generation.csv')\n",
    "df.head()"
   ]
  },
  {
   "cell_type": "code",
   "execution_count": 4,
   "id": "98d12f86-6052-4029-b334-a3bce9541b1a",
   "metadata": {},
   "outputs": [
    {
     "data": {
      "text/plain": [
       "(2731946, 4)"
      ]
     },
     "execution_count": 4,
     "metadata": {},
     "output_type": "execute_result"
    }
   ],
   "source": [
    "df.shape"
   ]
  },
  {
   "cell_type": "markdown",
   "id": "73471f34-a1ad-45a8-801e-215275a3b745",
   "metadata": {},
   "source": [
    "Missing Data:"
   ]
  },
  {
   "cell_type": "code",
   "execution_count": 5,
   "id": "a2a4567a-315f-43a5-9f68-0cc042a834dc",
   "metadata": {},
   "outputs": [
    {
     "data": {
      "text/plain": [
       "CampusKey                0\n",
       "SiteKey                  0\n",
       "Timestamp                0\n",
       "SolarGeneration    1536301\n",
       "dtype: int64"
      ]
     },
     "execution_count": 5,
     "metadata": {},
     "output_type": "execute_result"
    }
   ],
   "source": [
    "#Solar Generation at night is reported as NaN\n",
    "df.isnull().sum()"
   ]
  },
  {
   "cell_type": "code",
   "execution_count": 6,
   "id": "12a3c063-96f7-41b2-935a-c553ccf421f2",
   "metadata": {},
   "outputs": [
    {
     "data": {
      "text/html": [
       "<div>\n",
       "<style scoped>\n",
       "    .dataframe tbody tr th:only-of-type {\n",
       "        vertical-align: middle;\n",
       "    }\n",
       "\n",
       "    .dataframe tbody tr th {\n",
       "        vertical-align: top;\n",
       "    }\n",
       "\n",
       "    .dataframe thead th {\n",
       "        text-align: right;\n",
       "    }\n",
       "</style>\n",
       "<table border=\"1\" class=\"dataframe\">\n",
       "  <thead>\n",
       "    <tr style=\"text-align: right;\">\n",
       "      <th></th>\n",
       "      <th>CampusKey</th>\n",
       "      <th>SiteKey</th>\n",
       "      <th>Timestamp</th>\n",
       "      <th>SolarGeneration</th>\n",
       "      <th>time</th>\n",
       "    </tr>\n",
       "  </thead>\n",
       "  <tbody>\n",
       "  </tbody>\n",
       "</table>\n",
       "</div>"
      ],
      "text/plain": [
       "Empty DataFrame\n",
       "Columns: [CampusKey, SiteKey, Timestamp, SolarGeneration, time]\n",
       "Index: []"
      ]
     },
     "execution_count": 6,
     "metadata": {},
     "output_type": "execute_result"
    }
   ],
   "source": [
    "#Checking to see if any missing data is during the day\n",
    "df_na = df[df.isnull()]\n",
    "df_na['Timestamp'] = pd.to_datetime(df_na['Timestamp'])\n",
    "df_na['time'] = df_na.Timestamp.dt.time\n",
    "df_na[(df_na['time']> '09:00:00') & (df_na['time'] < '17:00:00')]"
   ]
  },
  {
   "cell_type": "code",
   "execution_count": 7,
   "id": "ea50c2b1-1048-4805-a882-6979ef2721ff",
   "metadata": {},
   "outputs": [],
   "source": [
    "#Filling Solar Generation at night equal to 0\n",
    "df.fillna(0, inplace = True)"
   ]
  },
  {
   "cell_type": "markdown",
   "id": "2359d735-c442-433a-b9f3-7f0c2547dcba",
   "metadata": {},
   "source": [
    "Setting Index as Datetime and Combining All Campuses Into Combined Generation Across All Sites"
   ]
  },
  {
   "cell_type": "code",
   "execution_count": 8,
   "id": "51e11883-90f7-4b94-b16b-3963e504e0ad",
   "metadata": {},
   "outputs": [],
   "source": [
    "df1 = pd.DataFrame(df.groupby(['Timestamp', 'CampusKey'])['SolarGeneration'].sum())\n",
    "df1.reset_index(inplace = True)\n",
    "df1['Timestamp'] = pd.to_datetime(df1['Timestamp'])\n",
    "df1['time'] = df1.Timestamp.dt.time"
   ]
  },
  {
   "cell_type": "code",
   "execution_count": 9,
   "id": "95f5aefa-9a26-40f4-83d6-5781c070f869",
   "metadata": {},
   "outputs": [],
   "source": [
    "df1.set_index('Timestamp', inplace = True, drop = True)"
   ]
  },
  {
   "cell_type": "code",
   "execution_count": 10,
   "id": "5ba46db0-248e-4962-8ef3-b62657360f98",
   "metadata": {},
   "outputs": [],
   "source": [
    "camp1 = df1[df1['CampusKey'] == 1]\n",
    "camp2 = df1[df1['CampusKey'] == 2]\n",
    "camp3 = df1[df1['CampusKey'] == 3]\n",
    "camp4 = df1[df1['CampusKey'] == 4]\n",
    "camp5 = df1[df1['CampusKey'] == 5]"
   ]
  },
  {
   "cell_type": "markdown",
   "id": "c5a57db2-ef22-401a-a896-c3509239d79e",
   "metadata": {},
   "source": [
    "---"
   ]
  },
  {
   "cell_type": "markdown",
   "id": "2d280c3c-e02b-435e-bd57-135de6befb1a",
   "metadata": {},
   "source": [
    "## Weather Data"
   ]
  },
  {
   "cell_type": "code",
   "execution_count": 11,
   "id": "77367daf-b143-4839-a9d9-7a26451c3333",
   "metadata": {},
   "outputs": [
    {
     "data": {
      "text/html": [
       "<div>\n",
       "<style scoped>\n",
       "    .dataframe tbody tr th:only-of-type {\n",
       "        vertical-align: middle;\n",
       "    }\n",
       "\n",
       "    .dataframe tbody tr th {\n",
       "        vertical-align: top;\n",
       "    }\n",
       "\n",
       "    .dataframe thead th {\n",
       "        text-align: right;\n",
       "    }\n",
       "</style>\n",
       "<table border=\"1\" class=\"dataframe\">\n",
       "  <thead>\n",
       "    <tr style=\"text-align: right;\">\n",
       "      <th></th>\n",
       "      <th>CampusKey</th>\n",
       "      <th>Timestamp</th>\n",
       "      <th>ApparentTemperature</th>\n",
       "      <th>AirTemperature</th>\n",
       "      <th>DewPointTemperature</th>\n",
       "      <th>RelativeHumidity</th>\n",
       "      <th>WindSpeed</th>\n",
       "      <th>WindDirection</th>\n",
       "    </tr>\n",
       "  </thead>\n",
       "  <tbody>\n",
       "    <tr>\n",
       "      <th>0</th>\n",
       "      <td>1</td>\n",
       "      <td>2020-01-01 00:00:00</td>\n",
       "      <td>13.666667</td>\n",
       "      <td>13.880000</td>\n",
       "      <td>8.960000</td>\n",
       "      <td>72.400000</td>\n",
       "      <td>0.000000</td>\n",
       "      <td>188.133333</td>\n",
       "    </tr>\n",
       "    <tr>\n",
       "      <th>1</th>\n",
       "      <td>1</td>\n",
       "      <td>2020-01-01 00:15:00</td>\n",
       "      <td>13.206667</td>\n",
       "      <td>13.666667</td>\n",
       "      <td>9.040000</td>\n",
       "      <td>73.466667</td>\n",
       "      <td>1.200000</td>\n",
       "      <td>203.866667</td>\n",
       "    </tr>\n",
       "    <tr>\n",
       "      <th>2</th>\n",
       "      <td>1</td>\n",
       "      <td>2020-01-01 00:30:00</td>\n",
       "      <td>12.840000</td>\n",
       "      <td>13.553333</td>\n",
       "      <td>9.053333</td>\n",
       "      <td>74.000000</td>\n",
       "      <td>2.520000</td>\n",
       "      <td>222.800000</td>\n",
       "    </tr>\n",
       "    <tr>\n",
       "      <th>3</th>\n",
       "      <td>1</td>\n",
       "      <td>2020-01-01 00:45:00</td>\n",
       "      <td>12.113333</td>\n",
       "      <td>13.506667</td>\n",
       "      <td>9.100000</td>\n",
       "      <td>74.466667</td>\n",
       "      <td>5.986667</td>\n",
       "      <td>231.133333</td>\n",
       "    </tr>\n",
       "    <tr>\n",
       "      <th>4</th>\n",
       "      <td>1</td>\n",
       "      <td>2020-01-01 01:00:00</td>\n",
       "      <td>11.946667</td>\n",
       "      <td>13.260000</td>\n",
       "      <td>9.266667</td>\n",
       "      <td>76.533333</td>\n",
       "      <td>5.946667</td>\n",
       "      <td>247.866667</td>\n",
       "    </tr>\n",
       "  </tbody>\n",
       "</table>\n",
       "</div>"
      ],
      "text/plain": [
       "   CampusKey            Timestamp  ApparentTemperature  AirTemperature  \\\n",
       "0          1  2020-01-01 00:00:00            13.666667       13.880000   \n",
       "1          1  2020-01-01 00:15:00            13.206667       13.666667   \n",
       "2          1  2020-01-01 00:30:00            12.840000       13.553333   \n",
       "3          1  2020-01-01 00:45:00            12.113333       13.506667   \n",
       "4          1  2020-01-01 01:00:00            11.946667       13.260000   \n",
       "\n",
       "   DewPointTemperature  RelativeHumidity  WindSpeed  WindDirection  \n",
       "0             8.960000         72.400000   0.000000     188.133333  \n",
       "1             9.040000         73.466667   1.200000     203.866667  \n",
       "2             9.053333         74.000000   2.520000     222.800000  \n",
       "3             9.100000         74.466667   5.986667     231.133333  \n",
       "4             9.266667         76.533333   5.946667     247.866667  "
      ]
     },
     "execution_count": 11,
     "metadata": {},
     "output_type": "execute_result"
    }
   ],
   "source": [
    "weather = pd.read_csv('Weather_Data_reordered_all.csv')\n",
    "weather.head()"
   ]
  },
  {
   "cell_type": "code",
   "execution_count": 12,
   "id": "30a50e01-bd6b-4df5-bb5a-7305a7077efa",
   "metadata": {},
   "outputs": [
    {
     "data": {
      "text/plain": [
       "array([1, 2, 3, 4, 5])"
      ]
     },
     "execution_count": 12,
     "metadata": {},
     "output_type": "execute_result"
    }
   ],
   "source": [
    "weather.CampusKey.unique()"
   ]
  },
  {
   "cell_type": "markdown",
   "id": "15526f3b-79a5-49a9-97b9-4b292f2bd8f5",
   "metadata": {},
   "source": [
    "Setting Index as Datetime and Combining All Campuses Into Combined Weather Data Across All Sites"
   ]
  },
  {
   "cell_type": "code",
   "execution_count": 13,
   "id": "e883d3b6-088e-4bb2-9a84-7228b75fdc3b",
   "metadata": {},
   "outputs": [],
   "source": [
    "weather['Timestamp'] = pd.to_datetime(weather['Timestamp'])\n",
    "weather.set_index('Timestamp', inplace = True)\n",
    "weather.sort_index(inplace = True)"
   ]
  },
  {
   "cell_type": "code",
   "execution_count": 14,
   "id": "469f1f52-c01c-45da-a9fc-1a8b1ddf5c78",
   "metadata": {},
   "outputs": [
    {
     "data": {
      "text/plain": [
       "(371769, 7)"
      ]
     },
     "execution_count": 14,
     "metadata": {},
     "output_type": "execute_result"
    }
   ],
   "source": [
    "weather.shape"
   ]
  },
  {
   "cell_type": "code",
   "execution_count": 15,
   "id": "88ea8a3b-3847-4857-b515-f3cf1831bce4",
   "metadata": {},
   "outputs": [
    {
     "data": {
      "text/plain": [
       "CampusKey                   0\n",
       "ApparentTemperature    107113\n",
       "AirTemperature         107113\n",
       "DewPointTemperature    107113\n",
       "RelativeHumidity       107113\n",
       "WindSpeed              162890\n",
       "WindDirection          162890\n",
       "dtype: int64"
      ]
     },
     "execution_count": 15,
     "metadata": {},
     "output_type": "execute_result"
    }
   ],
   "source": [
    "weather.isnull().sum()"
   ]
  },
  {
   "cell_type": "code",
   "execution_count": 16,
   "id": "b9146dc5-58d2-4980-913a-017cac7a915c",
   "metadata": {},
   "outputs": [],
   "source": [
    "campus1 = weather[weather['CampusKey'] == 1]\n",
    "campus2 = weather[weather['CampusKey'] == 2]\n",
    "campus3 = weather[weather['CampusKey'] == 3]\n",
    "campus4 = weather[weather['CampusKey'] == 4]\n",
    "campus5 = weather[weather['CampusKey'] == 5]"
   ]
  },
  {
   "cell_type": "code",
   "execution_count": 17,
   "id": "726ac900-9314-40d7-990c-7c8eb8dc3744",
   "metadata": {},
   "outputs": [
    {
     "data": {
      "text/html": [
       "<div>\n",
       "<style scoped>\n",
       "    .dataframe tbody tr th:only-of-type {\n",
       "        vertical-align: middle;\n",
       "    }\n",
       "\n",
       "    .dataframe tbody tr th {\n",
       "        vertical-align: top;\n",
       "    }\n",
       "\n",
       "    .dataframe thead th {\n",
       "        text-align: right;\n",
       "    }\n",
       "</style>\n",
       "<table border=\"1\" class=\"dataframe\">\n",
       "  <thead>\n",
       "    <tr style=\"text-align: right;\">\n",
       "      <th></th>\n",
       "      <th>CampusKey</th>\n",
       "      <th>ApparentTemperature</th>\n",
       "      <th>AirTemperature</th>\n",
       "      <th>DewPointTemperature</th>\n",
       "      <th>RelativeHumidity</th>\n",
       "      <th>WindSpeed</th>\n",
       "      <th>WindDirection</th>\n",
       "    </tr>\n",
       "    <tr>\n",
       "      <th>Timestamp</th>\n",
       "      <th></th>\n",
       "      <th></th>\n",
       "      <th></th>\n",
       "      <th></th>\n",
       "      <th></th>\n",
       "      <th></th>\n",
       "      <th></th>\n",
       "    </tr>\n",
       "  </thead>\n",
       "  <tbody>\n",
       "    <tr>\n",
       "      <th>2020-12-13 01:00:00</th>\n",
       "      <td>5</td>\n",
       "      <td>15.173333</td>\n",
       "      <td>19.386667</td>\n",
       "      <td>7.786667</td>\n",
       "      <td>47.000000</td>\n",
       "      <td>19.04</td>\n",
       "      <td>36.533333</td>\n",
       "    </tr>\n",
       "    <tr>\n",
       "      <th>2020-12-13 01:15:00</th>\n",
       "      <td>5</td>\n",
       "      <td>15.113333</td>\n",
       "      <td>19.186667</td>\n",
       "      <td>7.893333</td>\n",
       "      <td>48.000000</td>\n",
       "      <td>18.38</td>\n",
       "      <td>33.933333</td>\n",
       "    </tr>\n",
       "    <tr>\n",
       "      <th>2020-12-13 01:30:00</th>\n",
       "      <td>5</td>\n",
       "      <td>14.680000</td>\n",
       "      <td>19.166667</td>\n",
       "      <td>7.940000</td>\n",
       "      <td>48.200000</td>\n",
       "      <td>20.60</td>\n",
       "      <td>34.866667</td>\n",
       "    </tr>\n",
       "    <tr>\n",
       "      <th>2020-12-13 01:45:00</th>\n",
       "      <td>5</td>\n",
       "      <td>14.640000</td>\n",
       "      <td>19.146667</td>\n",
       "      <td>7.846667</td>\n",
       "      <td>48.000000</td>\n",
       "      <td>20.64</td>\n",
       "      <td>35.400000</td>\n",
       "    </tr>\n",
       "    <tr>\n",
       "      <th>2020-12-13 02:00:00</th>\n",
       "      <td>5</td>\n",
       "      <td>14.966667</td>\n",
       "      <td>18.906667</td>\n",
       "      <td>7.846667</td>\n",
       "      <td>48.533333</td>\n",
       "      <td>17.64</td>\n",
       "      <td>39.733333</td>\n",
       "    </tr>\n",
       "  </tbody>\n",
       "</table>\n",
       "</div>"
      ],
      "text/plain": [
       "                     CampusKey  ApparentTemperature  AirTemperature  \\\n",
       "Timestamp                                                             \n",
       "2020-12-13 01:00:00          5            15.173333       19.386667   \n",
       "2020-12-13 01:15:00          5            15.113333       19.186667   \n",
       "2020-12-13 01:30:00          5            14.680000       19.166667   \n",
       "2020-12-13 01:45:00          5            14.640000       19.146667   \n",
       "2020-12-13 02:00:00          5            14.966667       18.906667   \n",
       "\n",
       "                     DewPointTemperature  RelativeHumidity  WindSpeed  \\\n",
       "Timestamp                                                               \n",
       "2020-12-13 01:00:00             7.786667         47.000000      19.04   \n",
       "2020-12-13 01:15:00             7.893333         48.000000      18.38   \n",
       "2020-12-13 01:30:00             7.940000         48.200000      20.60   \n",
       "2020-12-13 01:45:00             7.846667         48.000000      20.64   \n",
       "2020-12-13 02:00:00             7.846667         48.533333      17.64   \n",
       "\n",
       "                     WindDirection  \n",
       "Timestamp                           \n",
       "2020-12-13 01:00:00      36.533333  \n",
       "2020-12-13 01:15:00      33.933333  \n",
       "2020-12-13 01:30:00      34.866667  \n",
       "2020-12-13 01:45:00      35.400000  \n",
       "2020-12-13 02:00:00      39.733333  "
      ]
     },
     "execution_count": 17,
     "metadata": {},
     "output_type": "execute_result"
    }
   ],
   "source": [
    "campus5.head()"
   ]
  },
  {
   "cell_type": "markdown",
   "id": "3390d56b-4e2d-4e17-8737-a7f7b9218b26",
   "metadata": {},
   "source": [
    "## Merging Solar Generation Data with Weather Data Per Campus"
   ]
  },
  {
   "cell_type": "code",
   "execution_count": 68,
   "id": "451b6158-d420-4624-9ef9-23623bd4ec0a",
   "metadata": {},
   "outputs": [
    {
     "data": {
      "text/plain": [
       "((79805, 3), (81017, 7))"
      ]
     },
     "execution_count": 68,
     "metadata": {},
     "output_type": "execute_result"
    }
   ],
   "source": [
    "camp1.shape, campus1.shape"
   ]
  },
  {
   "cell_type": "code",
   "execution_count": 20,
   "id": "49b691fb-3827-4eea-90fa-12dcac00a3c2",
   "metadata": {},
   "outputs": [],
   "source": [
    "df1 = pd.merge(left = camp1, right = campus1, on=['Timestamp', 'CampusKey'], how='left')\n",
    "df1.to_csv('campus1.csv')\n",
    "df2 = pd.merge(left = camp2, right = campus2, on=['Timestamp', 'CampusKey'], how='left')\n",
    "df2.to_csv('campus2.csv')\n",
    "df3 = pd.merge(left = camp3, right = campus3, on=['Timestamp', 'CampusKey'], how='left')\n",
    "df3.to_csv('campus3.csv')\n",
    "df4 = pd.merge(left = camp4, right = campus4, on=['Timestamp', 'CampusKey'], how='left')\n",
    "df4.to_csv('campus4.csv')\n",
    "df5 = pd.merge(left = camp5, right = campus5, on=['Timestamp', 'CampusKey'], how='left')\n",
    "df5.to_csv('campus5.csv')"
   ]
  },
  {
   "cell_type": "code",
   "execution_count": 21,
   "id": "663d7fbe-96b9-4790-8e1f-9cc191271200",
   "metadata": {},
   "outputs": [
    {
     "data": {
      "text/plain": [
       "array([14, 15, 16, 17, 18, 19, 20, 21, 22, 23, 24, 25, 26, 27, 28, 29, 30,\n",
       "       31, 32, 33, 34, 35, 36, 37, 38, 39, 40])"
      ]
     },
     "execution_count": 21,
     "metadata": {},
     "output_type": "execute_result"
    }
   ],
   "source": [
    "df['SiteKey'][df['CampusKey'] == 1].unique()"
   ]
  },
  {
   "cell_type": "code",
   "execution_count": 22,
   "id": "12c7f707-919f-4499-b938-5f4071ff6505",
   "metadata": {},
   "outputs": [
    {
     "data": {
      "text/plain": [
       "array([1, 2, 3, 4, 5])"
      ]
     },
     "execution_count": 22,
     "metadata": {},
     "output_type": "execute_result"
    }
   ],
   "source": [
    "df['SiteKey'][df['CampusKey'] == 2].unique()"
   ]
  },
  {
   "cell_type": "code",
   "execution_count": 23,
   "id": "1e047a31-6916-424a-9907-3b09be9d80bb",
   "metadata": {},
   "outputs": [
    {
     "data": {
      "text/plain": [
       "array([ 6,  7,  8,  9, 10, 11, 12, 13])"
      ]
     },
     "execution_count": 23,
     "metadata": {},
     "output_type": "execute_result"
    }
   ],
   "source": [
    "df['SiteKey'][df['CampusKey'] == 3].unique()"
   ]
  },
  {
   "cell_type": "code",
   "execution_count": 24,
   "id": "7d2edf4f-6ad6-4d68-b8a5-20d471ade8bf",
   "metadata": {},
   "outputs": [
    {
     "data": {
      "text/plain": [
       "array([41])"
      ]
     },
     "execution_count": 24,
     "metadata": {},
     "output_type": "execute_result"
    }
   ],
   "source": [
    "df['SiteKey'][df['CampusKey'] == 4].unique()"
   ]
  },
  {
   "cell_type": "code",
   "execution_count": 25,
   "id": "187d427b-3f52-4d2f-903c-510302899de9",
   "metadata": {},
   "outputs": [
    {
     "data": {
      "text/plain": [
       "array([42])"
      ]
     },
     "execution_count": 25,
     "metadata": {},
     "output_type": "execute_result"
    }
   ],
   "source": [
    "df['SiteKey'][df['CampusKey'] == 5].unique()"
   ]
  },
  {
   "cell_type": "markdown",
   "id": "eae88d4f-8376-423a-97f0-b3f4300f6238",
   "metadata": {},
   "source": [
    "### Exporting Half of the Individual Sites on Campus 3 For Granular Investigation"
   ]
  },
  {
   "cell_type": "code",
   "execution_count": 28,
   "id": "edd726a5-1665-46bf-a828-72ba56c9f948",
   "metadata": {},
   "outputs": [],
   "source": [
    "df_camp3 = df[df['CampusKey'] == 3].copy()\n",
    "df_camp3['Timestamp'] = pd.to_datetime(df_camp3['Timestamp'])\n",
    "df_camp3['time'] = df_camp3.Timestamp.dt.time\n",
    "\n",
    "df_camp3_site6 = df_camp3[df_camp3['SiteKey'] == 6]\n",
    "df_camp3_site6.to_csv('campus3_site6.csv')\n",
    "\n",
    "df_camp3_site8 = df_camp3[df_camp3['SiteKey'] == 8]\n",
    "df_camp3_site8.to_csv('campus3_site8.csv')\n",
    "\n",
    "df_camp3_site10 = df_camp3[df_camp3['SiteKey'] == 10]\n",
    "df_camp3_site10.to_csv('campus3_site10.csv')\n",
    "\n",
    "df_camp3_site12 = df_camp3[df_camp3['SiteKey'] == 12]\n",
    "df_camp3_site12.to_csv('campus3_site12.csv')"
   ]
  },
  {
   "cell_type": "code",
   "execution_count": null,
   "id": "04602c77-f737-4f62-8d70-6219f4471e28",
   "metadata": {},
   "outputs": [],
   "source": []
  }
 ],
 "metadata": {
  "kernelspec": {
   "display_name": "Python 3 (ipykernel)",
   "language": "python",
   "name": "python3"
  },
  "language_info": {
   "codemirror_mode": {
    "name": "ipython",
    "version": 3
   },
   "file_extension": ".py",
   "mimetype": "text/x-python",
   "name": "python",
   "nbconvert_exporter": "python",
   "pygments_lexer": "ipython3",
   "version": "3.10.9"
  }
 },
 "nbformat": 4,
 "nbformat_minor": 5
}
