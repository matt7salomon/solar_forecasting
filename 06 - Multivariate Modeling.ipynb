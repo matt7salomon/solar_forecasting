{
 "cells": [
  {
   "cell_type": "markdown",
   "metadata": {
    "id": "Jq6qXycc-pYQ"
   },
   "source": [
    "# Multivariate Modeling Using RNN\n",
    "\n",
    "#### (Meant to be run within Google Colab)"
   ]
  },
  {
   "cell_type": "code",
   "execution_count": 1,
   "metadata": {
    "id": "-haMZzKzBqK5"
   },
   "outputs": [],
   "source": [
    "import pandas as pd\n",
    "import numpy as np\n",
    "import matplotlib.pyplot as plt\n",
    "\n",
    "from sklearn.preprocessing import StandardScaler\n",
    "from sklearn.model_selection import train_test_split\n",
    "from sklearn.metrics import accuracy_score, mean_squared_error, mean_absolute_error\n",
    "\n",
    "\n",
    "from tensorflow.keras.models import Sequential\n",
    "from tensorflow.keras.layers import Dense, Dropout, LSTM, SimpleRNN\n",
    "from tensorflow.keras.optimizers import Adam\n",
    "from tensorflow.keras.preprocessing.sequence import TimeseriesGenerator\n",
    "from tensorflow.keras.utils import timeseries_dataset_from_array\n",
    "from tensorflow.keras.callbacks import EarlyStopping\n",
    "\n",
    "np.random.seed(42)"
   ]
  },
  {
   "cell_type": "code",
   "execution_count": 2,
   "metadata": {
    "id": "oN6sP4_cB57m"
   },
   "outputs": [],
   "source": [
    "#mount drive\n",
    "# from google.colab import drive\n",
    "# drive.mount('/content/drive')"
   ]
  },
  {
   "cell_type": "code",
   "execution_count": 4,
   "metadata": {
    "colab": {
     "base_uri": "https://localhost:8080/",
     "height": 74
    },
    "id": "rJNBKwZNCnGx",
    "outputId": "b5e37ac3-bc40-4b21-af2f-f29eb3740c62"
   },
   "outputs": [],
   "source": [
    "#import campus5\n",
    "\n",
    "df = pd.read_csv('campus5.csv')"
   ]
  },
  {
   "cell_type": "code",
   "execution_count": 5,
   "metadata": {
    "colab": {
     "base_uri": "https://localhost:8080/"
    },
    "id": "rF-vP03EB9UQ",
    "outputId": "6bf3af79-04a4-4a13-95f4-8be5efd79a8d"
   },
   "outputs": [
    {
     "data": {
      "text/plain": [
       "(79319, 7)"
      ]
     },
     "execution_count": 5,
     "metadata": {},
     "output_type": "execute_result"
    }
   ],
   "source": [
    "df.index = pd.to_datetime(df['Timestamp'])\n",
    "df.drop(columns = ['Timestamp', 'CampusKey', 'time'], inplace = True)\n",
    "df.shape"
   ]
  },
  {
   "cell_type": "code",
   "execution_count": 6,
   "metadata": {
    "colab": {
     "base_uri": "https://localhost:8080/"
    },
    "id": "eAUArfjqCz23",
    "outputId": "1518e34f-8a75-474c-ce38-910d2d5a3028"
   },
   "outputs": [
    {
     "data": {
      "text/plain": [
       "SolarGeneration        0\n",
       "ApparentTemperature    0\n",
       "AirTemperature         0\n",
       "DewPointTemperature    0\n",
       "RelativeHumidity       0\n",
       "WindSpeed              0\n",
       "WindDirection          0\n",
       "dtype: int64"
      ]
     },
     "execution_count": 6,
     "metadata": {},
     "output_type": "execute_result"
    }
   ],
   "source": [
    "#ww stands for With Weather info. Which starts at index #33311\n",
    "#Interpolating any missing weather interval data\n",
    "ww = df.iloc[33311:]\n",
    "ww = ww.interpolate(method = 'linear', limit_direction = 'forward')\n",
    "ww.isnull().sum()"
   ]
  },
  {
   "cell_type": "code",
   "execution_count": 7,
   "metadata": {
    "id": "Ah4PM6eRRk2n"
   },
   "outputs": [],
   "source": [
    "#Setting X and Y\n",
    "features = [i for i in ww.columns if i != 'SolarGeneration']\n",
    "X = ww[features]\n",
    "y = ww['SolarGeneration']\n",
    "X_train, X_test, y_train, y_test = train_test_split(X, y, shuffle = False, test_size = 0.2)"
   ]
  },
  {
   "cell_type": "code",
   "execution_count": 8,
   "metadata": {
    "colab": {
     "base_uri": "https://localhost:8080/"
    },
    "id": "ajZ7KcJoR9XR",
    "outputId": "6b7b9ec6-0de5-4261-fe1e-7f3b09bea61d"
   },
   "outputs": [
    {
     "data": {
      "text/plain": [
       "ApparentTemperature     14.100000\n",
       "AirTemperature          17.200000\n",
       "DewPointTemperature     12.200000\n",
       "RelativeHumidity        72.500000\n",
       "WindSpeed               18.318182\n",
       "WindDirection          220.363636\n",
       "Name: 2022-01-18 03:15:00, dtype: float64"
      ]
     },
     "execution_count": 8,
     "metadata": {},
     "output_type": "execute_result"
    }
   ],
   "source": [
    "X_train.iloc[-1]"
   ]
  },
  {
   "cell_type": "code",
   "execution_count": 9,
   "metadata": {
    "colab": {
     "base_uri": "https://localhost:8080/"
    },
    "id": "IcEWMwZPSGpO",
    "outputId": "1c054b4e-c462-4e96-a0cb-1ccb8f6b918a"
   },
   "outputs": [
    {
     "data": {
      "text/plain": [
       "ApparentTemperature     13.900000\n",
       "AirTemperature          17.000000\n",
       "DewPointTemperature     12.100000\n",
       "RelativeHumidity        73.000000\n",
       "WindSpeed               18.318182\n",
       "WindDirection          220.363636\n",
       "Name: 2022-01-18 03:30:00, dtype: float64"
      ]
     },
     "execution_count": 9,
     "metadata": {},
     "output_type": "execute_result"
    }
   ],
   "source": [
    "X_test.iloc[0]"
   ]
  },
  {
   "cell_type": "code",
   "execution_count": 10,
   "metadata": {
    "id": "Hsw9zFA7Hukz"
   },
   "outputs": [],
   "source": [
    "#Standard Scaling\n",
    "ss = StandardScaler()\n",
    "X_train_sc = ss.fit_transform(X_train)\n",
    "X_test_sc = ss.transform(X_test)"
   ]
  },
  {
   "cell_type": "code",
   "execution_count": 11,
   "metadata": {
    "id": "SU41kB8sbkkf"
   },
   "outputs": [],
   "source": [
    "def print_last(res):\n",
    "  '''\n",
    "  Helper function to just print out the last training and testing loss \n",
    "  function values as well as the last metrics of a fitted model\n",
    "  '''\n",
    "  print(f\"Mean Absolute Error - Training: {np.round(res.history['loss'][-1], 5)}\")\n",
    "  print(f\"Mean Absolute Error - Testing: {np.round(res.history['val_loss'][-1], 5)}\")\n",
    "  print(f\"Root Mean Squared Error - Training: {np.round(np.sqrt(res.history['mse'][-1]), 5)}\")\n",
    "  print(f\"Root Mean Squared Error - Testing: {np.round(np.sqrt(res.history['val_mse'][-1]), 5)}\")"
   ]
  },
  {
   "cell_type": "markdown",
   "metadata": {
    "id": "ZETUri1Z_sGm"
   },
   "source": [
    "First investigating sequences 4 intervals long (1 hour)"
   ]
  },
  {
   "cell_type": "code",
   "execution_count": 12,
   "metadata": {
    "id": "XCuJWEPrTRj-"
   },
   "outputs": [],
   "source": [
    "#timeseries generator, input shape, and early stopping for modeling\n",
    "\n",
    "train_sequences = TimeseriesGenerator(X_train_sc, y_train, length = 4, batch_size = 64)\n",
    "test_sequences = TimeseriesGenerator(X_test_sc, y_test, length = 4, batch_size = 64)\n",
    "input_shape = train_sequences[0][0][0].shape\n",
    "early_stop = EarlyStopping(monitor = 'val_loss', patience = 5)"
   ]
  },
  {
   "cell_type": "code",
   "execution_count": 13,
   "metadata": {
    "colab": {
     "base_uri": "https://localhost:8080/"
    },
    "id": "6qU6I5zcbrZK",
    "outputId": "d6b2e25a-f902-4f3a-cfd7-48f7711b1289"
   },
   "outputs": [
    {
     "name": "stderr",
     "output_type": "stream",
     "text": [
      "/Users/mattsalomon/miniconda3/lib/python3.10/site-packages/keras/src/layers/rnn/rnn.py:204: UserWarning: Do not pass an `input_shape`/`input_dim` argument to a layer. When using Sequential models, prefer using an `Input(shape)` object as the first layer in the model instead.\n",
      "  super().__init__(**kwargs)\n",
      "/Users/mattsalomon/miniconda3/lib/python3.10/site-packages/keras/src/trainers/data_adapters/py_dataset_adapter.py:122: UserWarning: Your `PyDataset` class should call `super().__init__(**kwargs)` in its constructor. `**kwargs` can include `workers`, `use_multiprocessing`, `max_queue_size`. Do not pass these arguments to `fit()`, as they will be ignored.\n",
      "  self._warn_if_super_not_called()\n"
     ]
    },
    {
     "name": "stdout",
     "output_type": "stream",
     "text": [
      "Mean Absolute Error - Training: 0.95058\n",
      "Mean Absolute Error - Testing: 0.75021\n",
      "Root Mean Squared Error - Training: 1.76877\n",
      "Root Mean Squared Error - Testing: 1.2032\n"
     ]
    }
   ],
   "source": [
    "model = Sequential()\n",
    "\n",
    "model.add(LSTM(96, input_shape = input_shape))\n",
    "model.add(Dense(1, activation = 'linear'))\n",
    "\n",
    "model.compile(loss = 'mae',\n",
    "              optimizer = Adam(learning_rate = 0.001), \n",
    "              metrics = ['mse'])\n",
    "\n",
    "res = model.fit(train_sequences, \n",
    "                validation_data = test_sequences, \n",
    "                epochs = 50, \n",
    "                verbose = 0,\n",
    "                callbacks = [early_stop])\n",
    "\n",
    "print_last(res)"
   ]
  },
  {
   "cell_type": "code",
   "execution_count": 14,
   "metadata": {
    "colab": {
     "base_uri": "https://localhost:8080/"
    },
    "id": "Dc_8lt2oTcGq",
    "outputId": "4e506ef1-6fc8-4970-a8e4-3852bea4f18a"
   },
   "outputs": [
    {
     "name": "stdout",
     "output_type": "stream",
     "text": [
      "Mean Absolute Error - Training: 1.05637\n",
      "Mean Absolute Error - Testing: 1.09387\n",
      "Root Mean Squared Error - Training: 1.90334\n",
      "Root Mean Squared Error - Testing: 1.65777\n"
     ]
    }
   ],
   "source": [
    "model = Sequential()\n",
    "\n",
    "model.add(LSTM(8, input_shape = input_shape, return_sequences = True))\n",
    "model.add(LSTM(32, return_sequences = False))\n",
    "model.add(Dense(8, activation = 'relu'))\n",
    "model.add(Dense(1, activation = 'linear'))\n",
    "\n",
    "model.compile(loss = 'mae',\n",
    "              optimizer = Adam(learning_rate = 0.001), \n",
    "              metrics = ['mse'])\n",
    "\n",
    "res = model.fit(train_sequences, \n",
    "                validation_data = test_sequences, \n",
    "                epochs = 50, \n",
    "                verbose = 0,\n",
    "                callbacks = [early_stop])\n",
    "\n",
    "print_last(res)"
   ]
  },
  {
   "cell_type": "code",
   "execution_count": 15,
   "metadata": {
    "colab": {
     "base_uri": "https://localhost:8080/"
    },
    "id": "hgRmRHVlVoSj",
    "outputId": "0995c9df-4dfe-4ff8-eb9a-df6bfb3530d9"
   },
   "outputs": [
    {
     "name": "stdout",
     "output_type": "stream",
     "text": [
      "Mean Absolute Error - Training: 1.04678\n",
      "Mean Absolute Error - Testing: 1.43587\n",
      "Root Mean Squared Error - Training: 1.89877\n",
      "Root Mean Squared Error - Testing: 2.19031\n"
     ]
    }
   ],
   "source": [
    "model = Sequential()\n",
    "\n",
    "model.add(LSTM(8, input_shape = input_shape, return_sequences = False))\n",
    "model.add(Dense(16, activation = 'relu'))\n",
    "model.add(Dense(512, activation ='relu'))\n",
    "model.add(Dense(512, activation ='relu'))\n",
    "model.add(Dense(512, activation ='relu'))\n",
    "model.add(Dense(1, activation = 'linear'))\n",
    "\n",
    "model.compile(loss = 'mae',\n",
    "              optimizer = Adam(learning_rate = 0.001), \n",
    "              metrics = ['mse'])\n",
    "\n",
    "res = model.fit(train_sequences, \n",
    "                validation_data = test_sequences, \n",
    "                epochs = 50, \n",
    "                verbose = 0,\n",
    "                callbacks = [early_stop])\n",
    "\n",
    "print_last(res)"
   ]
  },
  {
   "cell_type": "code",
   "execution_count": 16,
   "metadata": {
    "colab": {
     "base_uri": "https://localhost:8080/"
    },
    "id": "C7RavkscK1SP",
    "outputId": "55a55720-eb73-4d99-88da-0a70e1edc029"
   },
   "outputs": [
    {
     "name": "stdout",
     "output_type": "stream",
     "text": [
      "Mean Absolute Error - Training: 1.05795\n",
      "Mean Absolute Error - Testing: 1.03635\n",
      "Root Mean Squared Error - Training: 1.91572\n",
      "Root Mean Squared Error - Testing: 1.59709\n"
     ]
    }
   ],
   "source": [
    "model = Sequential()\n",
    "\n",
    "model.add(LSTM(32, input_shape = input_shape, return_sequences = True, ))\n",
    "model.add(LSTM(32, input_shape = input_shape, return_sequences = True))\n",
    "model.add(LSTM(64, input_shape = input_shape, return_sequences = False))\n",
    "model.add(Dense(16, activation = 'relu'))\n",
    "model.add(Dense(512, activation ='relu'))\n",
    "model.add(Dense(512, activation ='relu'))\n",
    "model.add(Dense(1, activation = 'linear'))\n",
    "\n",
    "model.compile(loss = 'mae',\n",
    "              optimizer = Adam(learning_rate = 0.001), \n",
    "              metrics = ['mse'])\n",
    "\n",
    "res = model.fit(train_sequences, \n",
    "                validation_data = test_sequences, \n",
    "                epochs = 50, \n",
    "                verbose = 0,\n",
    "                callbacks = [early_stop])\n",
    "\n",
    "print_last(res)"
   ]
  },
  {
   "cell_type": "code",
   "execution_count": null,
   "metadata": {
    "colab": {
     "base_uri": "https://localhost:8080/"
    },
    "id": "Fu5UBXQyMIOt",
    "outputId": "6f587b8b-6314-4c07-c8f3-e90ff227a906"
   },
   "outputs": [],
   "source": [
    "model = Sequential()\n",
    "\n",
    "model.add(LSTM(32, input_shape = input_shape, return_sequences = True))\n",
    "model.add(LSTM(64, input_shape = input_shape, return_sequences = True))\n",
    "model.add(LSTM(96, input_shape = input_shape, return_sequences = False))\n",
    "model.add(Dense(16, activation = 'relu'))\n",
    "model.add(Dense(512, activation ='relu'))\n",
    "model.add(Dense(512, activation ='relu'))\n",
    "\n",
    "model.add(Dense(1, activation = 'linear'))\n",
    "\n",
    "model.compile(loss = 'mae',\n",
    "              optimizer = Adam(learning_rate = 0.001), \n",
    "              metrics = ['mse'])\n",
    "\n",
    "res = model.fit(train_sequences, \n",
    "                validation_data = test_sequences, \n",
    "                epochs = 50, \n",
    "                verbose = 0,\n",
    "                callbacks = [early_stop])\n",
    "\n",
    "print_last(res)"
   ]
  },
  {
   "cell_type": "markdown",
   "metadata": {
    "id": "xseZWKkF_40V"
   },
   "source": [
    "Investigating sequences of 16 intervals in length (4 hours)"
   ]
  },
  {
   "cell_type": "code",
   "execution_count": null,
   "metadata": {
    "id": "Bo1RsZLmOYzG"
   },
   "outputs": [],
   "source": [
    "train_sequences = TimeseriesGenerator(X_train_sc, y_train, length = 16, batch_size = 96)\n",
    "test_sequences = TimeseriesGenerator(X_test_sc, y_test, length = 16, batch_size = 96)\n",
    "input_shape = train_sequences[0][0][0].shape"
   ]
  },
  {
   "cell_type": "code",
   "execution_count": null,
   "metadata": {
    "colab": {
     "base_uri": "https://localhost:8080/"
    },
    "id": "Xwa9hWJFB5TC",
    "outputId": "594afcd2-d0a7-42fc-b08c-d789357aba48"
   },
   "outputs": [],
   "source": [
    "model = Sequential()\n",
    "\n",
    "model.add(LSTM(96, input_shape = input_shape))\n",
    "model.add(Dense(1, activation = 'linear'))\n",
    "\n",
    "model.compile(loss = 'mae',\n",
    "              optimizer = Adam(learning_rate = 0.001), \n",
    "              metrics = ['mse'])\n",
    "\n",
    "res = model.fit(train_sequences, \n",
    "                validation_data = test_sequences, \n",
    "                epochs = 50, \n",
    "                verbose = 0,\n",
    "                callbacks = [early_stop])\n",
    "\n",
    "print_last(res)"
   ]
  },
  {
   "cell_type": "code",
   "execution_count": null,
   "metadata": {
    "colab": {
     "base_uri": "https://localhost:8080/"
    },
    "id": "cQe-SjjcOZKP",
    "outputId": "d9a34939-95e5-4ae6-91a3-5fc4d4d42d38"
   },
   "outputs": [],
   "source": [
    "model = Sequential()\n",
    "\n",
    "model.add(LSTM(8, input_shape = input_shape, return_sequences = True))\n",
    "model.add(LSTM(32, return_sequences = False))\n",
    "model.add(Dense(8, activation = 'relu'))\n",
    "\n",
    "model.add(Dense(1, activation = 'linear'))\n",
    "\n",
    "model.compile(loss = 'mae',\n",
    "              optimizer = Adam(learning_rate = 0.001), \n",
    "              metrics = ['mse'])\n",
    "\n",
    "res = model.fit(train_sequences, \n",
    "                validation_data = test_sequences, \n",
    "                epochs = 50, \n",
    "                verbose = 0,\n",
    "                callbacks = [early_stop])\n",
    "\n",
    "print_last(res)"
   ]
  },
  {
   "cell_type": "code",
   "execution_count": null,
   "metadata": {
    "colab": {
     "base_uri": "https://localhost:8080/"
    },
    "id": "8bg45AAKOdgS",
    "outputId": "e56f1ef8-774f-45dc-9dfe-7d514bc12168"
   },
   "outputs": [],
   "source": [
    "model = Sequential()\n",
    "\n",
    "model.add(LSTM(8, input_shape = input_shape, return_sequences = False))\n",
    "model.add(Dense(16, activation = 'relu'))\n",
    "model.add(Dense(512, activation ='relu'))\n",
    "model.add(Dense(512, activation ='relu'))\n",
    "model.add(Dense(512, activation ='relu'))\n",
    "\n",
    "model.add(Dense(1, activation = 'linear'))\n",
    "\n",
    "model.compile(loss = 'mae',\n",
    "              optimizer = Adam(learning_rate = 0.001), \n",
    "              metrics = ['mse'])\n",
    "\n",
    "res = model.fit(train_sequences, \n",
    "                validation_data = test_sequences, \n",
    "                epochs = 50, \n",
    "                verbose = 0,\n",
    "                callbacks = [early_stop])\n",
    "\n",
    "print_last(res)"
   ]
  },
  {
   "cell_type": "code",
   "execution_count": null,
   "metadata": {
    "colab": {
     "base_uri": "https://localhost:8080/"
    },
    "id": "mVO61p3KMO_a",
    "outputId": "f83a1764-d166-4ec3-df4b-ce25225ebfb6"
   },
   "outputs": [],
   "source": [
    "model = Sequential()\n",
    "\n",
    "model.add(LSTM(96, input_shape = input_shape, return_sequences = False))\n",
    "model.add(Dense(16, activation = 'relu'))\n",
    "model.add(Dense(512, activation ='relu'))\n",
    "model.add(Dense(512, activation ='relu'))\n",
    "model.add(Dense(512, activation ='relu'))\n",
    "\n",
    "model.add(Dense(1, activation = 'linear'))\n",
    "\n",
    "model.compile(loss = 'mae',\n",
    "              optimizer = Adam(learning_rate = 0.001), \n",
    "              metrics = ['mse'])\n",
    "\n",
    "res = model.fit(train_sequences, \n",
    "                validation_data = test_sequences, \n",
    "                epochs = 50, \n",
    "                verbose = 0,\n",
    "                callbacks = [early_stop])\n",
    "\n",
    "print_last(res)"
   ]
  },
  {
   "cell_type": "code",
   "execution_count": null,
   "metadata": {
    "colab": {
     "base_uri": "https://localhost:8080/"
    },
    "id": "OhJXHxgiOf8w",
    "outputId": "326421b4-c08d-4a7c-d09f-aed9448a5a53"
   },
   "outputs": [],
   "source": [
    "model = Sequential()\n",
    "\n",
    "model.add(LSTM(32, input_shape = input_shape, return_sequences = True, ))\n",
    "model.add(LSTM(32, input_shape = input_shape, return_sequences = True))\n",
    "model.add(LSTM(64, input_shape = input_shape, return_sequences = False))\n",
    "model.add(Dense(16, activation = 'relu'))\n",
    "model.add(Dense(512, activation ='relu'))\n",
    "model.add(Dense(512, activation ='relu'))\n",
    "\n",
    "model.add(Dense(1, activation = 'linear'))\n",
    "\n",
    "model.compile(loss = 'mae',\n",
    "              optimizer = Adam(learning_rate = 0.001), \n",
    "              metrics = ['mse'])\n",
    "\n",
    "res = model.fit(train_sequences, \n",
    "                validation_data = test_sequences, \n",
    "                epochs = 50, \n",
    "                verbose = 0,\n",
    "                callbacks = [early_stop])\n",
    "\n",
    "print_last(res)"
   ]
  },
  {
   "cell_type": "markdown",
   "metadata": {
    "id": "GcjiEoHWACGH"
   },
   "source": [
    "Investigating sequences of 96 intervals in length (1 Day)"
   ]
  },
  {
   "cell_type": "code",
   "execution_count": null,
   "metadata": {
    "id": "QCnKyRhhd_E6"
   },
   "outputs": [],
   "source": [
    "train_sequences = TimeseriesGenerator(X_train_sc, y_train, length = 96, batch_size = 672)\n",
    "test_sequences = TimeseriesGenerator(X_test_sc, y_test, length = 96, batch_size = 672)\n",
    "input_shape = train_sequences[0][0][0].shape"
   ]
  },
  {
   "cell_type": "code",
   "execution_count": null,
   "metadata": {
    "colab": {
     "base_uri": "https://localhost:8080/"
    },
    "id": "HbVx9nLFUi0a",
    "outputId": "2c049a4c-c52a-4e98-c061-a30ab35431c4"
   },
   "outputs": [],
   "source": [
    "model = Sequential()\n",
    "\n",
    "model.add(LSTM(96, input_shape = input_shape))\n",
    "model.add(Dense(1, activation = 'linear'))\n",
    "\n",
    "model.compile(loss = 'mae',\n",
    "              optimizer = Adam(learning_rate = 0.001), \n",
    "              metrics = ['mse'])\n",
    "\n",
    "res = model.fit(train_sequences, \n",
    "                validation_data = test_sequences, \n",
    "                epochs = 50, \n",
    "                verbose = 0,\n",
    "                callbacks = [early_stop])\n",
    "\n",
    "print_last(res)"
   ]
  },
  {
   "cell_type": "code",
   "execution_count": null,
   "metadata": {
    "colab": {
     "base_uri": "https://localhost:8080/"
    },
    "id": "EUcJ0KNaCCLt",
    "outputId": "65611256-fd82-443d-9904-bf675fc1c553"
   },
   "outputs": [],
   "source": [
    "model = Sequential()\n",
    "\n",
    "model.add(LSTM(192, input_shape = input_shape))\n",
    "model.add(Dense(1, activation = 'linear'))\n",
    "\n",
    "model.compile(loss = 'mae',\n",
    "              optimizer = Adam(learning_rate = 0.001), \n",
    "              metrics = ['mse'])\n",
    "\n",
    "res = model.fit(train_sequences, \n",
    "                validation_data = test_sequences, \n",
    "                epochs = 50, \n",
    "                verbose = 0,\n",
    "                callbacks = [early_stop])\n",
    "\n",
    "print_last(res)"
   ]
  },
  {
   "cell_type": "code",
   "execution_count": null,
   "metadata": {
    "colab": {
     "base_uri": "https://localhost:8080/"
    },
    "id": "xjTfO2zPd_CD",
    "outputId": "ad680a8f-7ead-4fa3-9885-22180d642195"
   },
   "outputs": [],
   "source": [
    "model = Sequential()\n",
    "\n",
    "model.add(LSTM(8, input_shape = input_shape, return_sequences = True))\n",
    "model.add(LSTM(32, return_sequences = False))\n",
    "model.add(Dense(8, activation = 'relu'))\n",
    "\n",
    "model.add(Dense(1, activation = 'linear'))\n",
    "\n",
    "model.compile(loss = 'mae',\n",
    "              optimizer = Adam(learning_rate = 0.001), \n",
    "              metrics = ['mse'])\n",
    "\n",
    "res = model.fit(train_sequences, \n",
    "                validation_data = test_sequences, \n",
    "                epochs = 50, \n",
    "                verbose = 0,\n",
    "                callbacks = [early_stop])\n",
    "\n",
    "print_last(res)"
   ]
  },
  {
   "cell_type": "code",
   "execution_count": null,
   "metadata": {
    "colab": {
     "base_uri": "https://localhost:8080/"
    },
    "id": "FjlGOIf1d-_Y",
    "outputId": "90592a0c-1884-438b-fc8a-62b225bd344a"
   },
   "outputs": [],
   "source": [
    "model = Sequential()\n",
    "\n",
    "model.add(LSTM(8, input_shape = input_shape, return_sequences = False))\n",
    "model.add(Dense(16, activation = 'relu'))\n",
    "model.add(Dense(512, activation ='relu'))\n",
    "model.add(Dense(512, activation ='relu'))\n",
    "model.add(Dense(512, activation ='relu'))\n",
    "\n",
    "model.add(Dense(1, activation = 'linear'))\n",
    "\n",
    "model.compile(loss = 'mae',\n",
    "              optimizer = Adam(learning_rate = 0.001), \n",
    "              metrics = ['mse'])\n",
    "\n",
    "res = model.fit(train_sequences, \n",
    "                validation_data = test_sequences, \n",
    "                epochs = 50, \n",
    "                verbose = 0,\n",
    "                callbacks = [early_stop])\n",
    "\n",
    "print_last(res)"
   ]
  },
  {
   "cell_type": "code",
   "execution_count": null,
   "metadata": {
    "colab": {
     "base_uri": "https://localhost:8080/"
    },
    "id": "d8qR2RlQd-8Y",
    "outputId": "634d586b-f3e1-4155-961b-d3c321bd6b85"
   },
   "outputs": [],
   "source": [
    "model = Sequential()\n",
    "\n",
    "model.add(LSTM(32, input_shape = input_shape, return_sequences = True, ))\n",
    "model.add(LSTM(32, input_shape = input_shape, return_sequences = True))\n",
    "model.add(LSTM(64, input_shape = input_shape, return_sequences = False))\n",
    "model.add(Dense(16, activation = 'relu'))\n",
    "model.add(Dense(512, activation ='relu'))\n",
    "model.add(Dense(512, activation ='relu'))\n",
    "\n",
    "model.add(Dense(1, activation = 'linear'))\n",
    "\n",
    "model.compile(loss = 'mae',\n",
    "              optimizer = Adam(learning_rate = 0.001), \n",
    "              metrics = ['mse'])\n",
    "\n",
    "res = model.fit(train_sequences, \n",
    "                validation_data = test_sequences, \n",
    "                epochs = 50, \n",
    "                verbose = 0,\n",
    "                callbacks = [early_stop])\n",
    "\n",
    "print_last(res)"
   ]
  },
  {
   "cell_type": "markdown",
   "metadata": {
    "id": "XE7wwgdnqdcU"
   },
   "source": [
    "It seems Univariate Modeling gives much better scores. Probably due to the weather data variability compounding to the variability of the Solar Generation"
   ]
  },
  {
   "cell_type": "markdown",
   "metadata": {
    "id": "AdgPwXFHy41P"
   },
   "source": [
    "---\n",
    "# Hourly Modeling\n",
    "---"
   ]
  },
  {
   "cell_type": "code",
   "execution_count": null,
   "metadata": {
    "id": "A7uGLXadbrNT"
   },
   "outputs": [],
   "source": [
    "hourly = ww.resample('H').mean().ffill()"
   ]
  },
  {
   "cell_type": "code",
   "execution_count": null,
   "metadata": {
    "id": "ogGmOvHdbrLJ"
   },
   "outputs": [],
   "source": [
    "features = [i for i in hourly.columns if i != 'SolarGeneration']\n",
    "X = hourly[features]\n",
    "y = hourly['SolarGeneration']\n",
    "X_train, X_test, y_train, y_test = train_test_split(X, y, shuffle = False, test_size = 0.2)"
   ]
  },
  {
   "cell_type": "code",
   "execution_count": null,
   "metadata": {
    "id": "m3u2SCFkzT_m"
   },
   "outputs": [],
   "source": [
    "ss = StandardScaler()\n",
    "X_train_sc = ss.fit_transform(X_train)\n",
    "X_test_sc = ss.transform(X_test)"
   ]
  },
  {
   "cell_type": "markdown",
   "metadata": {
    "id": "WLlvd8x4ArM8"
   },
   "source": [
    "First investigating 12-hour sequences"
   ]
  },
  {
   "cell_type": "code",
   "execution_count": null,
   "metadata": {
    "id": "Ylzaqb_0brI4"
   },
   "outputs": [],
   "source": [
    "train_sequences = TimeseriesGenerator(X_train_sc, y_train, length = 12, batch_size = 48)\n",
    "test_sequences = TimeseriesGenerator(X_test_sc, y_test, length = 12, batch_size = 48)\n",
    "input_shape = train_sequences[0][0][0].shape"
   ]
  },
  {
   "cell_type": "code",
   "execution_count": null,
   "metadata": {
    "colab": {
     "base_uri": "https://localhost:8080/"
    },
    "id": "RosO7sm1brGa",
    "outputId": "e621ef75-9988-4e7d-e9e9-c7d6233604c5"
   },
   "outputs": [],
   "source": [
    "model = Sequential()\n",
    "\n",
    "model.add(LSTM(24, input_shape = input_shape))\n",
    "model.add(Dense(1, activation = 'linear'))\n",
    "\n",
    "model.compile(loss = 'mae',\n",
    "              optimizer = Adam(learning_rate = 0.001), \n",
    "              metrics = ['mse'])\n",
    "\n",
    "res = model.fit(train_sequences, \n",
    "                validation_data = test_sequences, \n",
    "                epochs = 50, \n",
    "                verbose = 0,\n",
    "                callbacks = [early_stop])\n",
    "\n",
    "print_last(res)"
   ]
  },
  {
   "cell_type": "code",
   "execution_count": null,
   "metadata": {
    "colab": {
     "base_uri": "https://localhost:8080/"
    },
    "id": "2k7WHX8IbrDp",
    "outputId": "a395e349-8a09-41e6-8637-c10b47d517e6"
   },
   "outputs": [],
   "source": [
    "model = Sequential()\n",
    "\n",
    "model.add(LSTM(48, input_shape = input_shape))\n",
    "model.add(Dense(1, activation = 'linear'))\n",
    "\n",
    "model.compile(loss = 'mae',\n",
    "              optimizer = Adam(learning_rate = 0.001), \n",
    "              metrics = ['mse'])\n",
    "\n",
    "res = model.fit(train_sequences, \n",
    "                validation_data = test_sequences, \n",
    "                epochs = 50, \n",
    "                verbose = 0,\n",
    "                callbacks = [early_stop])\n",
    "\n",
    "print_last(res)"
   ]
  },
  {
   "cell_type": "code",
   "execution_count": null,
   "metadata": {
    "colab": {
     "base_uri": "https://localhost:8080/"
    },
    "id": "T-uE2QGzbrA4",
    "outputId": "f16805c5-4dae-4ac9-c1ba-7d7a27758294"
   },
   "outputs": [],
   "source": [
    "model = Sequential()\n",
    "\n",
    "model.add(LSTM(144, input_shape = input_shape))\n",
    "model.add(Dense(1, activation = 'linear'))\n",
    "\n",
    "model.compile(loss = 'mae',\n",
    "              optimizer = Adam(learning_rate = 0.001), \n",
    "              metrics = ['mse'])\n",
    "\n",
    "res = model.fit(train_sequences, \n",
    "                validation_data = test_sequences, \n",
    "                epochs = 50, \n",
    "                verbose = 0,\n",
    "                callbacks = [early_stop])\n",
    "\n",
    "print_last(res)"
   ]
  },
  {
   "cell_type": "markdown",
   "metadata": {
    "id": "eboWcFIAAxHd"
   },
   "source": [
    "Investigating 24-hour sequences"
   ]
  },
  {
   "cell_type": "code",
   "execution_count": null,
   "metadata": {
    "id": "yzTfCdJwzdH_"
   },
   "outputs": [],
   "source": [
    "train_sequences = TimeseriesGenerator(X_train_sc, y_train, length = 24, batch_size = 72)\n",
    "test_sequences = TimeseriesGenerator(X_test_sc, y_test, length = 24, batch_size = 72)\n",
    "input_shape = train_sequences[0][0][0].shape"
   ]
  },
  {
   "cell_type": "code",
   "execution_count": null,
   "metadata": {
    "colab": {
     "base_uri": "https://localhost:8080/"
    },
    "id": "i8YDDo5b0Nyr",
    "outputId": "4763fc90-7c97-4a36-dd40-2dba996c2078"
   },
   "outputs": [],
   "source": [
    "model = Sequential()\n",
    "\n",
    "model.add(LSTM(24, input_shape = input_shape))\n",
    "model.add(Dense(1, activation = 'linear'))\n",
    "\n",
    "model.compile(loss = 'mae',\n",
    "              optimizer = Adam(learning_rate = 0.001), \n",
    "              metrics = ['mse'])\n",
    "\n",
    "res = model.fit(train_sequences, \n",
    "                validation_data = test_sequences, \n",
    "                epochs = 50, \n",
    "                verbose = 0,\n",
    "                callbacks = [early_stop])\n",
    "\n",
    "print_last(res)"
   ]
  },
  {
   "cell_type": "code",
   "execution_count": null,
   "metadata": {
    "colab": {
     "base_uri": "https://localhost:8080/"
    },
    "id": "c3JRZ9Ae0NwU",
    "outputId": "e971c924-d756-4356-9d02-d8d819a5f882"
   },
   "outputs": [],
   "source": [
    "model = Sequential()\n",
    "\n",
    "model.add(LSTM(48, input_shape = input_shape))\n",
    "model.add(Dense(1, activation = 'linear'))\n",
    "\n",
    "model.compile(loss = 'mae',\n",
    "              optimizer = Adam(learning_rate = 0.001), \n",
    "              metrics = ['mse'])\n",
    "\n",
    "res = model.fit(train_sequences, \n",
    "                validation_data = test_sequences, \n",
    "                epochs = 50, \n",
    "                verbose = 0,\n",
    "                callbacks = [early_stop])\n",
    "\n",
    "print_last(res)"
   ]
  },
  {
   "cell_type": "code",
   "execution_count": null,
   "metadata": {
    "colab": {
     "base_uri": "https://localhost:8080/"
    },
    "id": "nOz19PKt0Ntx",
    "outputId": "67d0e77c-ad8e-4cf0-b732-491e9102a2c3"
   },
   "outputs": [],
   "source": [
    "model = Sequential()\n",
    "\n",
    "model.add(LSTM(144, input_shape = input_shape))\n",
    "model.add(Dense(1, activation = 'linear'))\n",
    "\n",
    "model.compile(loss = 'mae',\n",
    "              optimizer = Adam(learning_rate = 0.001), \n",
    "              metrics = ['mse'])\n",
    "\n",
    "res = model.fit(train_sequences, \n",
    "                validation_data = test_sequences, \n",
    "                epochs = 50, \n",
    "                verbose = 0,\n",
    "                callbacks = [early_stop])\n",
    "\n",
    "print_last(res)"
   ]
  },
  {
   "cell_type": "markdown",
   "metadata": {
    "id": "0XUUNNFJA1ot"
   },
   "source": [
    "---\n",
    "# Daily Investigation\n",
    "---"
   ]
  },
  {
   "cell_type": "code",
   "execution_count": null,
   "metadata": {
    "id": "qSwHcXuQbq2G"
   },
   "outputs": [],
   "source": [
    "daily = df.resample('D').max()"
   ]
  },
  {
   "cell_type": "code",
   "execution_count": null,
   "metadata": {
    "id": "2C5lIHqZykDG"
   },
   "outputs": [],
   "source": [
    "features = [i for i in ww.columns if i != 'SolarGeneration']\n",
    "X = ww[features]\n",
    "y = ww['SolarGeneration']\n",
    "X_train, X_test, y_train, y_test = train_test_split(X, y, shuffle = False, test_size = 0.2)"
   ]
  },
  {
   "cell_type": "code",
   "execution_count": null,
   "metadata": {
    "id": "uEXhvuGqy1vV"
   },
   "outputs": [],
   "source": [
    "ss = StandardScaler()\n",
    "X_train_sc = ss.fit_transform(X_train)\n",
    "X_test_sc = ss.transform(X_test)"
   ]
  },
  {
   "cell_type": "markdown",
   "metadata": {
    "id": "K0t6DucwA7qB"
   },
   "source": [
    "First looking at 4-day sequences"
   ]
  },
  {
   "cell_type": "code",
   "execution_count": null,
   "metadata": {
    "id": "B6s16sujzgDl"
   },
   "outputs": [],
   "source": [
    "train_sequences = TimeseriesGenerator(X_train_sc, y_train, length = 4, batch_size = 12)\n",
    "test_sequences = TimeseriesGenerator(X_test_sc, y_test, length = 4, batch_size = 12)\n",
    "input_shape = train_sequences[0][0][0].shape"
   ]
  },
  {
   "cell_type": "code",
   "execution_count": null,
   "metadata": {
    "colab": {
     "base_uri": "https://localhost:8080/"
    },
    "id": "kSwytQnpzvdC",
    "outputId": "1d9a5ac7-56a4-4730-d8bc-c9a8291f86c4"
   },
   "outputs": [],
   "source": [
    "model = Sequential()\n",
    "\n",
    "model.add(LSTM(10, input_shape = input_shape))\n",
    "model.add(Dense(1, activation = 'linear'))\n",
    "\n",
    "model.compile(loss = 'mae',\n",
    "              optimizer = Adam(learning_rate = 0.001), \n",
    "              metrics = ['mse'])\n",
    "\n",
    "res = model.fit(train_sequences, \n",
    "                validation_data = test_sequences, \n",
    "                epochs = 50, \n",
    "                verbose = 0,\n",
    "                callbacks = [early_stop])\n",
    "\n",
    "print_last(res)"
   ]
  },
  {
   "cell_type": "code",
   "execution_count": null,
   "metadata": {
    "colab": {
     "base_uri": "https://localhost:8080/"
    },
    "id": "GH2mzFURzvaT",
    "outputId": "9e051d53-b6a0-491d-cc72-e95dda00909c"
   },
   "outputs": [],
   "source": [
    "model = Sequential()\n",
    "\n",
    "model.add(LSTM(30, input_shape = input_shape))\n",
    "model.add(Dense(1, activation = 'linear'))\n",
    "\n",
    "model.compile(loss = 'mae',\n",
    "              optimizer = Adam(learning_rate = 0.001), \n",
    "              metrics = ['mse'])\n",
    "\n",
    "res = model.fit(train_sequences, \n",
    "                validation_data = test_sequences, \n",
    "                epochs = 50, \n",
    "                verbose = 0,\n",
    "                callbacks = [early_stop])\n",
    "\n",
    "print_last(res)"
   ]
  },
  {
   "cell_type": "code",
   "execution_count": null,
   "metadata": {
    "colab": {
     "base_uri": "https://localhost:8080/"
    },
    "id": "8XIs_UtIzvSd",
    "outputId": "657317df-9dbe-4f87-8bc3-194114162486"
   },
   "outputs": [],
   "source": [
    "model = Sequential()\n",
    "\n",
    "model.add(LSTM(10, input_shape = input_shape))\n",
    "model.add(Dense(1, activation = 'linear'))\n",
    "\n",
    "model.compile(loss = 'mae',\n",
    "              optimizer = Adam(learning_rate = 0.001), \n",
    "              metrics = ['mse'])\n",
    "\n",
    "res = model.fit(train_sequences, \n",
    "                validation_data = test_sequences, \n",
    "                epochs = 50, \n",
    "                verbose = 0,\n",
    "                callbacks = [early_stop])\n",
    "\n",
    "print_last(res)"
   ]
  },
  {
   "cell_type": "code",
   "execution_count": null,
   "metadata": {
    "colab": {
     "base_uri": "https://localhost:8080/"
    },
    "id": "6DiTHYnpzvPX",
    "outputId": "a88de2a8-834b-4479-bce3-0160bb1995b7"
   },
   "outputs": [],
   "source": [
    " model = Sequential()\n",
    "\n",
    "model.add(SimpleRNN(7, input_shape = input_shape, return_sequences = True))\n",
    "model.add(SimpleRNN(7))\n",
    "model.add(Dense(1, activation = 'linear'))\n",
    "\n",
    "model.compile(loss = 'mae',\n",
    "              optimizer = Adam(learning_rate = 0.001), \n",
    "              metrics = ['mse'])\n",
    "\n",
    "res = model.fit(train_sequences, \n",
    "                validation_data = test_sequences, \n",
    "                epochs = 50, \n",
    "                verbose = 0,\n",
    "                callbacks = [early_stop])\n",
    "\n",
    "print_last(res)"
   ]
  },
  {
   "cell_type": "code",
   "execution_count": null,
   "metadata": {},
   "outputs": [],
   "source": []
  }
 ],
 "metadata": {
  "colab": {
   "provenance": []
  },
  "kernelspec": {
   "display_name": "Python 3 (ipykernel)",
   "language": "python",
   "name": "python3"
  },
  "language_info": {
   "codemirror_mode": {
    "name": "ipython",
    "version": 3
   },
   "file_extension": ".py",
   "mimetype": "text/x-python",
   "name": "python",
   "nbconvert_exporter": "python",
   "pygments_lexer": "ipython3",
   "version": "3.10.9"
  }
 },
 "nbformat": 4,
 "nbformat_minor": 1
}
